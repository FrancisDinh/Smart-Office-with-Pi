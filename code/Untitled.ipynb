{
 "cells": [
  {
   "cell_type": "code",
   "execution_count": 15,
   "metadata": {},
   "outputs": [],
   "source": [
    "#decode part for actuators\n",
    "\n"
   ]
  },
  {
   "cell_type": "code",
   "execution_count": null,
   "metadata": {},
   "outputs": [],
   "source": [
    "import subprocess\n",
    "\n",
    "\n",
    "def read_pddl_file(file_path):\n",
    "    with open(file_path, 'r') as pddl_file:\n",
    "        return pddl_file.read()\n",
    "\n",
    "\n",
    "class PddlPlanner:\n",
    "    def __init__(self, mode='day'):\n",
    "        self.mode = mode\n",
    "        self.dm_day = read_pddl_file('pddl/dm_day.pddl')\n",
    "        self.pb_day = read_pddl_file('pddl/pb_day.pddl')\n",
    "        self.dm_night = read_pddl_file('pddl/dm_night.pddl')\n",
    "        self.pb_night = read_pddl_file('pddl/pb_night.pddl')\n",
    "\n",
    "    def generate_problem(self, init):\n",
    "        with open('problem.pddl', 'w') as problem:\n",
    "            if self.mode == 'day':\n",
    "                problem.write(self.pb_day.strip().replace('(:init)', init))\n",
    "            else:\n",
    "                problem.write(self.pb_night.strip().replace('(:init)', init))\n",
    "\n",
    "    def generate_domain(self):\n",
    "        with open('domain.pddl', 'w') as domain:\n",
    "            if self.mode == 'day':\n",
    "                domain.write(self.dm_day.strip())\n",
    "            else:\n",
    "                domain.write(self.dm_night.strip())\n",
    "\n",
    "    def get_planning_results(self, process_result):\n",
    "        actions = []\n",
    "        lines = str(process_result.stdout, 'utf-8').split('time spent:')[0].split('step')[1].strip().split('\\n')\n",
    "        for line in lines:\n",
    "            actions.append(line.split(':')[1].strip().split(' ')[0].strip().lower())\n",
    "        return actions\n",
    "\n",
    "    def convert_state_to_init(self, state):\n",
    "        init = \"(:init\"\n",
    "        if (state['sensors.lightlevel'] > 60):\n",
    "            init += \"(TOOBRIGHT light_intensity)\"\n",
    "        else:\n",
    "            init += \"(TOODARK light_intensity)\"\n",
    "        if (state['sensors.pir'] == 1):\n",
    "            init += \"(ISATDOOR person_atdoor)\"\n",
    "        else:\n",
    "            init += \"(NOTISATDOOR person_atdoor)\"\n",
    "        if (state['sensors.temperature'] > 23):\n",
    "            init += \"(TOOHOT temperature)\"\n",
    "        else:\n",
    "            init += \"(TOOCOLD temperature)\"\n",
    "        if (state['sensors.ultrasonic'] < 50):\n",
    "            init += \"(ISPRESENT presence)\"\n",
    "        else:\n",
    "            init += \"(NOTISPRESENT presence)\"\n",
    "        init += \")\"\n",
    "        return init\n",
    "\n",
    "    def run_planner(self, state):\n",
    "        self.generate_problem(self.convert_state_to_init(state))\n",
    "        self.generate_domain()\n",
    "        process_result = subprocess.run(['./pddl/ff', '-o', 'domain.pddl', '-f', 'problem.pddl'], stdout=subprocess.PIPE)\n",
    "        return self.get_planning_results(process_result)"
   ]
  },
  {
   "cell_type": "code",
   "execution_count": 16,
   "metadata": {},
   "outputs": [],
   "source": [
    "sensors.light\n",
    "sensors.pir\n",
    "sensors.temperature\n",
    "sensors.ultrasonic\n",
    "    "
   ]
  },
  {
   "cell_type": "code",
   "execution_count": null,
   "metadata": {},
   "outputs": [],
   "source": []
  },
  {
   "cell_type": "code",
   "execution_count": null,
   "metadata": {},
   "outputs": [],
   "source": []
  }
 ],
 "metadata": {
  "kernelspec": {
   "display_name": "Python 3",
   "language": "python",
   "name": "python3"
  },
  "language_info": {
   "codemirror_mode": {
    "name": "ipython",
    "version": 3
   },
   "file_extension": ".py",
   "mimetype": "text/x-python",
   "name": "python",
   "nbconvert_exporter": "python",
   "pygments_lexer": "ipython3",
   "version": "3.7.3"
  }
 },
 "nbformat": 4,
 "nbformat_minor": 2
}
